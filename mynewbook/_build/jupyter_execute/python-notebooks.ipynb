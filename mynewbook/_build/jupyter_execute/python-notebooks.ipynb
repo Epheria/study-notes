{
 "cells": [
  {
   "cell_type": "markdown",
   "metadata": {
    "colab_type": "toc",
    "id": "MkjJpHIs8qgo"
   },
   "source": [
    "# 0. 목차\n",
    "\n",
    ">[1. 행렬의 개념 이해](#scrollTo=BExD16Qj_cM_)\n",
    "\n",
    ">>[1.1 행렬이란?](#scrollTo=t256VGWcPPZm)\n",
    "\n",
    ">>[1.2 행렬 만들기](#scrollTo=cqQ_0r23BMGs)\n",
    "\n",
    ">>>[1.2.1 행렬의 원소를 직접 입력하는 방법](#scrollTo=2PKm13miDB7t)\n",
    "\n",
    ">>>[1.2.2 일정한 값으로 채워진 행렬 만들기](#scrollTo=rCL-Sg7EE6tj)\n",
    "\n",
    ">>>[1.2.3 간격이 일정한 행렬: arange, linspace](#scrollTo=_7axcXyB01Up)\n",
    "\n",
    ">>>[1.2.4 이미 만들어진 행렬을 이용하는 방법](#scrollTo=aVBomke7IdjW)\n",
    "\n",
    ">[2. 행렬 다루기](#scrollTo=_wbMIOhIL1FL)\n",
    "\n",
    ">>[2.1 행렬의 인덱싱과 슬라이싱](#scrollTo=NGUx1lAtrNjO)\n",
    "\n",
    ">>[2.2 행렬의 재형상reshaping](#scrollTo=6A1V1Gj1rROg)\n",
    "\n",
    ">>[2.3 행렬의 연산](#scrollTo=30-7A194cvqS)\n",
    "\n",
    ">[3. 행렬을 다루는 numpy 함수](#scrollTo=G24nVuwpNz2o)\n",
    "\n",
    ">>[3.1 벡터화 연산](#scrollTo=QMKMKkvmOIZU)\n",
    "\n",
    ">>[3.2 난수 관련 함수](#scrollTo=nKoGizGMOLzJ)\n",
    "\n"
   ]
  },
  {
   "cell_type": "markdown",
   "metadata": {
    "id": "BExD16Qj_cM_"
   },
   "source": [
    "---\n",
    "\n",
    "# 1. 행렬의 개념 이해"
   ]
  },
  {
   "cell_type": "markdown",
   "metadata": {
    "id": "t256VGWcPPZm"
   },
   "source": [
    "---\n",
    "\n",
    "## 1.1 행렬이란?\n",
    "\n",
    "* 행렬: 수를 **사각형** 형태로 나열한 변수\n",
    "  * 여러 객체를 묶어서 한번에 관리할 수 있다.\n",
    "  * 대용량 데이터 관리에 편리\n",
    "  * 인덱스를 통해 각각의 요소에 접근 가능\n",
    "\n",
    "* 반드시 사각형의 **모든** 칸에 숫자가 차 있어야 한다.\n",
    "  * 모든 행<sup>row</sup>은 길이가 같아야 한다.\n",
    "  * 모든 열<sup>column</sup>도 길이가 같아야 한다.\n",
    "  * (참고) 리스트는 이 조건을 만족하지 않아도 된다.\n",
    "    * `lst = [[1, 2], [3, 4, 5]]`\n",
    "\n",
    "<img src=https://www.index.go.kr/potal/e-nara/images/meanAnalsImg/1007/20230414064048076.png width=450>\n",
    "\n",
    "출처: https://www.index.go.kr/unity/potal/main/EachDtlPageDetail.do?idx_cd=1007\n",
    "\n",
    "<img src=https://cdn.pixabay.com/photo/2017/07/02/09/03/books-2463779_1280.jpg width=450>\n",
    "\n",
    "출처: https://pixabay.com/photos/books-bookshelf-library-education-2463779/\n",
    "\n",
    "* **[중요] 행렬의 인덱스는 0부터 시작한다.**\n",
    "  * 행 번호를 먼저 쓴다.\n",
    "\n",
    "![](https://iq.opengenus.org/content/images/2020/04/index.png)\n",
    "\n",
    "출처: https://iq.opengenus.org/2d-array-in-numpy/\n",
    "\n",
    "* 행렬과 리스트의 차이점\n",
    "  * 리스트\n",
    "    * 아무 자료형이나 다 넣을 수 있다.\n",
    "    * 요소들이 메모리 상에 인접해있지 않다.\n",
    "    * 연산이 느리고 용량을 많이 차지한다.\n",
    "  * 행렬\n",
    "    * 원소들의 자료형이 동일해야 한다.\n",
    "    * 원소들이 메모리 상에 인접하게 위치해있다.\n",
    "    * 연산이 리스트에 비해 빠르다.\n",
    "\n",
    "\n"
   ]
  },
  {
   "cell_type": "code",
   "execution_count": 1,
   "metadata": {
    "colab": {
     "base_uri": "https://localhost:8080/"
    },
    "id": "-k6PDcMONKSC",
    "outputId": "de2c391b-1e68-4fee-b313-f122bdce9525"
   },
   "outputs": [
    {
     "name": "stdout",
     "output_type": "stream",
     "text": [
      "[[ 1  2  3  4  5]\n",
      " [ 6  7  8  9 10]\n",
      " [11 12 13 14 15]\n",
      " [16 17 18 19 20]]\n"
     ]
    }
   ],
   "source": [
    "import numpy as np\n",
    "\n",
    "A = np.array([[ 1,  2,  3,  4,  5],\n",
    "              [ 6,  7,  8,  9, 10],\n",
    "              [11, 12, 13, 14, 15],\n",
    "              [16, 17, 18, 19, 20]]) # 모든 행의 길이가 같아야 하고 모든 열의 길이도 같아야 한다.\n",
    "\n",
    "print(A)\n",
    "\n",
    "# 14를 꺼내고 싶으면 뭐라고 써야 할까?\n",
    "\n",
    "# 인덱싱 방법이 리스트와는 약간 다르다! (뒤에서 자세히 설명할 예정)"
   ]
  },
  {
   "cell_type": "markdown",
   "metadata": {
    "id": "cqQ_0r23BMGs"
   },
   "source": [
    "---\n",
    "\n",
    "## 1.2 행렬 만들기"
   ]
  },
  {
   "cell_type": "markdown",
   "metadata": {
    "id": "2PKm13miDB7t"
   },
   "source": [
    "---\n",
    "\n",
    "### 1.2.1 행렬의 원소를 직접 입력하는 방법\n",
    "\n",
    "* `numpy.array()`를 이용하여 리스트나 튜플을 행렬로 만들 수 있다.\n",
    "* numpy의 행렬의 자료형은 ndarray이다.\n",
    "* 2차원 배열일 경우 각 행의 길이는 같아야 한다.\n",
    "* 행렬의 shape에 주의할 것\n",
    "  * shape이 (3,)인 행렬, (1, 3)인 행렬, (3, 1)인 행렬은 모두 다르다!"
   ]
  },
  {
   "cell_type": "code",
   "execution_count": 2,
   "metadata": {
    "colab": {
     "base_uri": "https://localhost:8080/"
    },
    "id": "vpNUxle5PI5e",
    "outputId": "06372c10-d886-4952-91b3-c1c6f19f3df8"
   },
   "outputs": [
    {
     "name": "stdout",
     "output_type": "stream",
     "text": [
      "[0 1 2]\n",
      "A의 자료형: <class 'numpy.ndarray'>\n",
      "A의 shape: (3,)\n",
      "A의 차원: 1\n",
      "A의 요소의 자료형: int64\n"
     ]
    }
   ],
   "source": [
    "import numpy as np\n",
    "\n",
    "# np.array로 리스트를 ndarray로 만든다.\n",
    "A = np.array([0, 1, 2])\n",
    "print(A)\n",
    "print(f'A의 자료형: {type(A)}')\n",
    "print(f'A의 shape: {A.shape}') # shape은 튜플로 나온다.\n",
    "print(f'A의 차원: {A.ndim}') # 1차원이다!\n",
    "print(f'A의 요소의 자료형: {A.dtype}')"
   ]
  },
  {
   "cell_type": "code",
   "execution_count": 3,
   "metadata": {
    "colab": {
     "base_uri": "https://localhost:8080/"
    },
    "id": "xvcpnw1eY9SF",
    "outputId": "1e7684c0-1d65-4cee-c63b-22df5b3cbcfd"
   },
   "outputs": [
    {
     "name": "stdout",
     "output_type": "stream",
     "text": [
      "[[0.]\n",
      " [1.]\n",
      " [2.]]\n",
      "B의 shape: (3, 1)\n",
      "B의 차원: 2\n",
      "B의 요소의 자료형: float64\n"
     ]
    }
   ],
   "source": [
    "B = np.array([[0.], [1.], [2.]])\n",
    "print(B)\n",
    "print(f'B의 shape: {B.shape}') # 2차원 행렬이다!\n",
    "print(f'B의 차원: {B.ndim}')\n",
    "print(f'B의 요소의 자료형: {B.dtype}') # 0이 아니라 0.으로 썼으므로 float"
   ]
  },
  {
   "cell_type": "code",
   "execution_count": 4,
   "metadata": {
    "colab": {
     "base_uri": "https://localhost:8080/"
    },
    "id": "d4bosDUjZFzm",
    "outputId": "e92cea6f-d526-4794-af49-ac021f5f239f"
   },
   "outputs": [
    {
     "name": "stdout",
     "output_type": "stream",
     "text": [
      "[[0 1 2]]\n",
      "C의 shape: (1, 3)\n",
      "C의 차원: 2\n",
      "C의 요소의 자료형: int64\n"
     ]
    }
   ],
   "source": [
    "C = np.array([[0, 1, 2]])\n",
    "print(C)\n",
    "print(f'C의 shape: {C.shape}')\n",
    "print(f'C의 차원: {C.ndim}') # 2차원이다! (3,)과는 다른 행렬이다!\n",
    "print(f'C의 요소의 자료형: {C.dtype}')"
   ]
  },
  {
   "cell_type": "code",
   "execution_count": 5,
   "metadata": {
    "colab": {
     "base_uri": "https://localhost:8080/"
    },
    "id": "JjAcb3HZY8Hi",
    "outputId": "6ab26e3d-0a7b-44b6-a532-72b74d679561"
   },
   "outputs": [
    {
     "name": "stdout",
     "output_type": "stream",
     "text": [
      "[0 1 2 3 4 5 6 7 8 9]\n"
     ]
    }
   ],
   "source": [
    "# range도 np.array를 이용하여 ndarray로 만들 수 있다.\n",
    "# array-like는 다 된다.\n",
    "D = np.array(range(10))\n",
    "print(D)"
   ]
  },
  {
   "cell_type": "markdown",
   "metadata": {
    "id": "F92qnWVlHI3f"
   },
   "source": [
    "* ndarray의 복사본을 만들 때는 주의해야 한다.\n",
    "  * `=`: 복제\n",
    "  * `numpy.asarray`: 복제\n",
    "  * `numpy.array`: 복사\n",
    "  * 입력인자가 ndarray일 경우 =와 asarray는 조심해서 사용해야 한다!\n",
    "  * 참고: https://ok-lab.tistory.com/179"
   ]
  },
  {
   "cell_type": "code",
   "execution_count": 6,
   "metadata": {
    "colab": {
     "base_uri": "https://localhost:8080/"
    },
    "id": "usVLmgY7HpXw",
    "outputId": "1b30f9a5-5f4c-4ee2-d523-4ffc7c2ef6b4"
   },
   "outputs": [
    {
     "name": "stdout",
     "output_type": "stream",
     "text": [
      "B (=):       [100   1   2   3   4]\n",
      "C (asarray): [100   1   2   3   4]\n",
      "D (array):   [0 1 2 3 4]\n",
      "B is A?:  True\n",
      "C is A?:  True\n",
      "D is A?:  False\n"
     ]
    }
   ],
   "source": [
    "A = np.array([0, 1, 2, 3, 4])\n",
    "B = A\n",
    "C = np.asarray(A)\n",
    "D = np.array(A)\n",
    "\n",
    "A[0] = 100\n",
    "\n",
    "print(\"B (=):      \", B)\n",
    "print(\"C (asarray):\", C)\n",
    "print(\"D (array):  \", D)\n",
    "\n",
    "print(\"B is A?: \", B is A)\n",
    "print(\"C is A?: \", C is A)\n",
    "print(\"D is A?: \", D is A)"
   ]
  },
  {
   "cell_type": "code",
   "execution_count": 7,
   "metadata": {
    "colab": {
     "base_uri": "https://localhost:8080/"
    },
    "id": "2wPeliZjICTv",
    "outputId": "352e5d35-9b78-4a47-d380-06c63703de73"
   },
   "outputs": [
    {
     "name": "stdout",
     "output_type": "stream",
     "text": [
      "[0. 1. 2. 3. 4.]\n",
      "A의 요소의 자료형: float64\n"
     ]
    }
   ],
   "source": [
    "# ndarray를 만들 때 자료형을 직접 지정할 수도 있다.\n",
    "A = np.array([0, 1, 2, 3, 4], dtype=float)\n",
    "print(A)\n",
    "print(f'A의 요소의 자료형: {A.dtype}')"
   ]
  },
  {
   "cell_type": "code",
   "execution_count": 8,
   "metadata": {
    "colab": {
     "base_uri": "https://localhost:8080/"
    },
    "id": "5Oi5PdcgthsD",
    "outputId": "92fdfa65-72dc-4b7d-ac1a-438591407675"
   },
   "outputs": [
    {
     "name": "stdout",
     "output_type": "stream",
     "text": [
      "[0. 1. 2. 3. 4.] float64\n",
      "[100   1   2   3   4] int64\n"
     ]
    }
   ],
   "source": [
    "# ndarray의 자료형은 변경할 수 없다.\n",
    "# 자료형을 바꾸려면 새로운 ndarray를 만들어야 한다.\n",
    "B = A.astype('int') # B는 A의 복사본 (연결되어 있지 않음)\n",
    "B[0] = 100\n",
    "\n",
    "print(A, A.dtype) # B를 바꿔도 A는 그대로이다.\n",
    "print(B, B.dtype)"
   ]
  },
  {
   "cell_type": "markdown",
   "metadata": {
    "id": "rCL-Sg7EE6tj"
   },
   "source": [
    "### 1.2.2 일정한 값으로 채워진 행렬 만들기\n",
    "\n",
    "* 모든 원소가 같은 행렬을 만들 수 있다.\n",
    "* 모든 원소가 0인 행렬: `np.zeros`\n",
    "* 모든 원소가 1인 행렬: `np.ones`\n",
    "* 모든 원소가 2인 행렬: `2 * np.ones`\n",
    "* 위 함수들의 입력인자로 행렬 shape을 튜플로 넣는다.\n",
    "* 자료형 기본값은 `float`이다."
   ]
  },
  {
   "cell_type": "code",
   "execution_count": 9,
   "metadata": {
    "colab": {
     "base_uri": "https://localhost:8080/"
    },
    "id": "OKqnQrDIE6eZ",
    "outputId": "3e9a2110-10a1-4f86-963d-5cfd80e441aa"
   },
   "outputs": [
    {
     "name": "stdout",
     "output_type": "stream",
     "text": [
      "[[0. 0. 0.]\n",
      " [0. 0. 0.]]\n",
      "[[1. 1. 1. 1.]\n",
      " [1. 1. 1. 1.]\n",
      " [1. 1. 1. 1.]]\n",
      "[[10. 10. 10. 10.]\n",
      " [10. 10. 10. 10.]\n",
      " [10. 10. 10. 10.]]\n",
      "[1. 1. 1. 1. 1.]\n",
      "[0. 0. 0. 0. 0.]\n"
     ]
    }
   ],
   "source": [
    "print(np.zeros((2, 3))) # np.zeros(2, 3)으로 쓰지 않도록 조심하자.\n",
    "\n",
    "print(np.ones((3, 4)))\n",
    "\n",
    "print(10 * np.ones((3, 4)))\n",
    "\n",
    "print(np.ones(5))\n",
    "\n",
    "print(np.zeros(5))"
   ]
  },
  {
   "cell_type": "markdown",
   "metadata": {
    "id": "_7axcXyB01Up"
   },
   "source": [
    "### 1.2.3 간격이 일정한 행렬: arange, linspace\n",
    "\n",
    "* 일정한 간격으로 값을 생성하고 싶을 때 사용\n",
    "* 간격을 지정하고 싶으면: `arange`\n",
    "* 개수를 지정하고 싶으면: `linspace`\n"
   ]
  },
  {
   "cell_type": "markdown",
   "metadata": {
    "id": "i4WgPQrRoStb"
   },
   "source": [
    "* `np.arange`: 간격을 지정하고 싶을 때\n",
    "  * 문법: `numpy.arange([start, ]stop, [step, ])`\n",
    "  * start의 기본값은 0, step의 기본값은 1\n",
    "  * 입력 인자가 1개이면 stop이 됨\n",
    "  * 입력 인자가 2개이면 start와 stop이 됨\n",
    "  * `np.arange(0, 10, 1)`: 0부터 10까지 1 간격으로 (10은 포함되지 **않음!** - half-open interval)\n",
    "  * `np.arange(10, 0, -2)`: 음수 간격도 가능\n",
    "  * `np.arange(0, 1, 0.1)`: 소수 간격도 가능 (`range`와의 차이점)"
   ]
  },
  {
   "cell_type": "code",
   "execution_count": 10,
   "metadata": {
    "colab": {
     "base_uri": "https://localhost:8080/"
    },
    "id": "JJufBB-K3vsh",
    "outputId": "166a5b00-3d7b-40d9-ae4d-fa7ee919d00c"
   },
   "outputs": [
    {
     "name": "stdout",
     "output_type": "stream",
     "text": [
      "[0. 1. 2. 3. 4. 5. 6. 7. 8. 9.]\n",
      "[10  8  6  4  2]\n",
      "========================================\n",
      "[0 1 2 3 4 5 6 7 8 9]\n",
      "[10 11 12 13 14 15 16 17 18 19]\n",
      "[10 12 14 16 18]\n",
      "[20 18 16 14 12]\n",
      "========================================\n",
      "[]\n",
      "[ 1 11 21 31 41 51 61 71 81 91]\n",
      "========================================\n",
      "[1.5 1.6 1.7 1.8 1.9 2.  2.1 2.2 2.3 2.4]\n"
     ]
    }
   ],
   "source": [
    "# 문법: numpy.arange([start, ]stop, [step, ])\n",
    "print(np.arange(0., 10, 1)) # 0과 0.의 차이는?\n",
    "print(np.arange(10, 0, -2)) # arange는 입력값으로부터 자료형을 추론함\n",
    "print(\"=\"*40)\n",
    "print(np.arange(10)) # range(10)과 같음\n",
    "print(np.arange(10, 20)) # range(10, 20)과 같음\n",
    "print(np.arange(10, 20, 2)) # range(10, 20, 2)와 같음\n",
    "print(np.arange(20, 10, -2)) # range(20, 10, -2)와 같음\n",
    "print(\"=\"*40)\n",
    "print(np.arange(10, 5)) # 10에서 1씩 증가하여 5가 될 수 없으므로 빈 행렬\n",
    "print(np.arange(1, 100, 10)) # 끝에 도달할 수 없으면 도달 가능한 마지막 값까지\n",
    "print(\"=\"*40)\n",
    "print(np.arange(1.5, 2.5, 0.1)) # 소수 간격 가능"
   ]
  },
  {
   "cell_type": "markdown",
   "metadata": {
    "id": "rTDog0zZUO2i"
   },
   "source": [
    "* `np.linspace`: 전체 값 개수를 지정하고 싶을 때\n",
    "  * 문법: `linspace(start, stop, num=50)`\n",
    "  * start에서 stop까지 등간격으로 num개만큼 생성\n",
    "  * num을 지정하지 않으면 기본으로 50개 생성\n",
    "  * `np.linspace(0, 10, 11)`: 0부터 10까지 등간격으로 11개 (10이 **포함됨!**)\n",
    "  * `np.linspace(5, -5, 11)`: 개수를 지정하므로 간격의 부호를 신경쓰지 않아도 됨"
   ]
  },
  {
   "cell_type": "code",
   "execution_count": 11,
   "metadata": {
    "id": "FR2GUAPkY3Wo"
   },
   "outputs": [
    {
     "name": "stdout",
     "output_type": "stream",
     "text": [
      "[ 1.  2.  3.  4.  5.  6.  7.  8.  9. 10.]\n",
      "[1. 3. 5. 7. 9.]\n",
      "[  2.   4.   6.   8.  10.  12.  14.  16.  18.  20.  22.  24.  26.  28.\n",
      "  30.  32.  34.  36.  38.  40.  42.  44.  46.  48.  50.  52.  54.  56.\n",
      "  58.  60.  62.  64.  66.  68.  70.  72.  74.  76.  78.  80.  82.  84.\n",
      "  86.  88.  90.  92.  94.  96.  98. 100.]\n",
      "[9. 7. 5. 3. 1.]\n",
      "[10. 10. 10. 10. 10. 10. 10. 10. 10. 10. 10. 10. 10. 10. 10. 10. 10. 10.\n",
      " 10. 10. 10. 10. 10. 10. 10. 10. 10. 10. 10. 10. 10. 10. 10. 10. 10. 10.\n",
      " 10. 10. 10. 10. 10. 10. 10. 10. 10. 10. 10. 10. 10. 10.]\n"
     ]
    }
   ],
   "source": [
    "# 문법: numpy.linspace(start, stop, num=50)\n",
    "print(np.linspace(1, 10, 10)) # linspace는 결과가 정수이더라도 float으로 만든다.\n",
    "print(np.linspace(1, 9, 5))\n",
    "print(np.linspace(2, 100)) # 개수 지정하지 않으면 50개\n",
    "print(np.linspace(9, 1, 5)) # 개수를 지정하므로 간격의 부호는 신경쓰지 않아도 된다.\n",
    "print(np.linspace(10, 10)) # 시작과 끝값이 같다면? 같은 값이 반복됨"
   ]
  },
  {
   "cell_type": "markdown",
   "metadata": {
    "id": "hlJk6fLRdPvd"
   },
   "source": [
    "* 언제 arange를 쓰고 언제 linspace를 쓸까?\n",
    "  * 간격을 지정하는 것이 더 편할 때는 `np.arange`\n",
    "    * ex) 20초부터 10초 간격으로 100초까지\n",
    "      * t = np.arange(20, 101, 10)\n",
    "    * ex) 1990년부터 2020년까지 5년 간격으로\n",
    "      * years = np.arange(1990, 2021, 5)\n",
    "  * 간격이 중요하지 않을 때에는 `np.linspace`\n",
    "    * 특히 시작과 끝값만 정하고 촘촘히 나눌 때\n",
    "    * ex) 0부터 1까지 충분히 많은 - 1000개 정도 - 값을 등간격으로\n",
    "      * t = np.linspace(0, 1, 1000)"
   ]
  },
  {
   "cell_type": "markdown",
   "metadata": {
    "id": "aVBomke7IdjW"
   },
   "source": [
    "---\n",
    "\n",
    "### 1.2.4 이미 만들어진 행렬을 이용하는 방법\n",
    "* 같이 읽기\n",
    "  * https://everyday-image-processing.tistory.com/86\n",
    "  * https://everyday-image-processing.tistory.com/87\n",
    "  \n",
    "* 이미 만들어진 행렬을 다양한 방법으로 합칠 수 있다.\n",
    "* (1, 3) 행렬과 (1, 3) 행렬을\n",
    "  * 수평 방향으로 합치면 (1, 6) 행렬이 만들어진다.\n",
    "  * 수직 방향으로 합치면 (2, 3) 행렬이 만들어진다.\n",
    "\n",
    "* ndarray에는 axis라는 개념이 있다.\n",
    "  * 1차원 행렬은 축이 하나밖에 없으므로 `axis=0`만 있다.\n",
    "  * 2차원 행렬은\n",
    "    * `axis=0`은 행방향(수직 방향)을 말한다. (또는 첫 번째 차원)\n",
    "    * `axis=1`은 열방향(수평 방향)을 말한다. (또는 두 번째 차원)\n",
    "\n",
    "<p>\n",
    "<img src=https://img1.daumcdn.net/thumb/R1280x0/?scode=mtistory2&fname=https%3A%2F%2Fblog.kakaocdn.net%2Fdn%2FcSoMOs%2Fbtqt0a2Dc2y%2FQhkfwhiWqeUKvNfsM2H29K%2Fimg.png width=450>\n",
    "</p>\n",
    "\n",
    "출처: https://azanewta.tistory.com/3\n",
    "\n",
    "* 행렬을 합치는 함수는 종류가 다양하다.\n",
    "* `concatenate((a1, a2, ...), axis)`\n",
    "  * 각 행렬은 차원이 같아야 한다.\n",
    "  * 각 행렬은 합칠 수 있는 크기를 가져야 한다.\n",
    "  * (2, 2)와 (1, 2) -> `axis=0` 방향으로 합칠 수 있지만 `axis=1` 방향으로는 못 합친다.\n",
    "\n",
    "<p>\n",
    "<img src=https://img1.daumcdn.net/thumb/R1280x0/?scode=mtistory2&fname=https%3A%2F%2Fblog.kakaocdn.net%2Fdn%2Fbctbkn%2FbtqHelWh9tf%2FHuwyP0ckFAkWpdAxqm0wk1%2Fimg.png width=450></p>\n",
    "\n",
    "출처: https://everyday-image-processing.tistory.com/86"
   ]
  },
  {
   "cell_type": "code",
   "execution_count": 12,
   "metadata": {
    "id": "KCN0uZk7JYZX"
   },
   "outputs": [
    {
     "name": "stdout",
     "output_type": "stream",
     "text": [
      "[1 2 3 4 5 6]\n",
      "[[1 2]\n",
      " [3 4]\n",
      " [5 6]]\n"
     ]
    }
   ],
   "source": [
    "a = np.array([1, 2, 3])\n",
    "b = np.array([4, 5, 6])\n",
    "\n",
    "# 1차원은 axis=0로만 합칠 수 있다.\n",
    "print(np.concatenate((a, b), axis=0))\n",
    "\n",
    "a = np.array([[1, 2], [3, 4]])\n",
    "b = np.array([[5, 6]]) # 1차원 행렬로 만들면 a와 concatenate로 합칠 수 없다.\n",
    "print(np.concatenate((a, b), axis=0)) # axis=1로는 합칠 수 없다."
   ]
  },
  {
   "cell_type": "markdown",
   "metadata": {
    "id": "c92-uQqUCAhN"
   },
   "source": [
    "* `stack((a1, a2, ...), axis)`\n",
    "  * 1차원 ndarray를 합쳐서 2차원로 만들 때 사용할 수 있다.\n",
    "  * 합칠 축을 지정하면 다른 방향으로도 합칠 수 있다.\n",
    "<p>\n",
    "<img src=https://www.w3resource.com/w3r_images/numpy-manipulation-stack-function-image-1.png width=200>\n",
    "</p>\n",
    "\n",
    "출처: https://www.w3resource.com/numpy/manipulation/stack.php\n",
    "\n",
    "* `hstack((a1, a2, ...))`\n",
    "  * 수평<sup>**h**orizontal</sup> 방향으로 합친다.\n",
    "  * 합칠 행렬들은 차원이 같아야 한다.\n",
    "  * `concatenate`에서 `axis=1`로 둔 것과 같은 효과이다.\n",
    "\n",
    "* `vstack((a1, a2, ...))`\n",
    "  * 수직<sup>**v**ertical</sup> 방향으로 합친다.\n",
    "  * 합칠 행렬들은 차원이 같아야 한다.\n",
    "  * `concatenate`에서 `axis=0`으로 둔 것과 같은 효과이다.\n",
    "\n",
    "<p>\n",
    "<img src=https://i.stack.imgur.com/hSM5G.png width=600>\n",
    "</p>\n",
    "\n",
    "출처: https://i.stack.imgur.com/hSM5G.png"
   ]
  },
  {
   "cell_type": "code",
   "execution_count": 13,
   "metadata": {
    "id": "yHL_IKyAFGRG"
   },
   "outputs": [
    {
     "name": "stdout",
     "output_type": "stream",
     "text": [
      "[1 2 3 4 5 6]\n",
      "[[1 2 3]\n",
      " [4 5 6]]\n",
      "[[1 4]\n",
      " [2 5]\n",
      " [3 6]]\n",
      "[[1]\n",
      " [2]\n",
      " [3]\n",
      " [4]\n",
      " [5]\n",
      " [6]]\n"
     ]
    }
   ],
   "source": [
    "h1 = np.array([1, 2, 3]) # shape = (3,)\n",
    "h2 = np.array([4, 5, 6]) # shape = (3,)\n",
    "v1 = np.array([[1], [2], [3]]) # shape = (3, 1)\n",
    "v2 = np.array([[4], [5], [6]]) # shape = (3, 1)\n",
    "\n",
    "print(np.hstack((h1, h2))) # shape = (6,)\n",
    "print(np.vstack((h1, h2))) # shape = (2, 3)\n",
    "\n",
    "print(np.hstack((v1, v2))) # shape = (3, 2)\n",
    "print(np.vstack((v1, v2))) # shape = (6, 1)"
   ]
  },
  {
   "cell_type": "code",
   "execution_count": 14,
   "metadata": {
    "id": "K1lXIoBJhPkr"
   },
   "outputs": [
    {
     "name": "stdout",
     "output_type": "stream",
     "text": [
      "[1 2 3 4 5 6 7]\n",
      "[[ 1  2  3  4  5]\n",
      " [ 6  7  8  9 10]]\n",
      "[[10. 12. 14. 16. 18. 20.]\n",
      " [20. 22. 24. 26. 28. 30.]]\n"
     ]
    }
   ],
   "source": [
    "# arange, linspace와 함께 사용하기\n",
    "\n",
    "print(np.hstack((np.arange(1, 4), np.arange(4, 8))))\n",
    "print(np.vstack((np.arange(1, 6), np.arange(6, 11))))\n",
    "print(np.vstack((np.linspace(10, 20, 6), np.linspace(20, 30, 6))))"
   ]
  },
  {
   "cell_type": "markdown",
   "metadata": {
    "id": "brB1Yd_3lskJ"
   },
   "source": [
    "* `tile(A, reps)`\n",
    "  * ndarray `A`를 `reps`만큼 반복해서 더 큰 행렬을 만든다.\n",
    "\n",
    "\n",
    "<p>\n",
    "<img src=https://www.w3resource.com/w3r_images/numpy-manipulation-tile-function-image-a.png>\n",
    "</p>\n",
    "\n",
    "출처: https://www.w3resource.com/numpy/manipulation/tile.php"
   ]
  },
  {
   "cell_type": "code",
   "execution_count": 15,
   "metadata": {
    "id": "NOCjQwoKlsQt"
   },
   "outputs": [
    {
     "name": "stdout",
     "output_type": "stream",
     "text": [
      "[0 1 2 0 1 2]\n",
      "[[0 1 2 0 1 2 0 1 2]\n",
      " [0 1 2 0 1 2 0 1 2]]\n",
      "[[0 1 2]\n",
      " [0 1 2]\n",
      " [0 1 2]\n",
      " [0 1 2]]\n",
      "========================================\n",
      "[[1 2 1 2]\n",
      " [3 4 3 4]]\n",
      "[[1 2 1 2]\n",
      " [3 4 3 4]\n",
      " [1 2 1 2]\n",
      " [3 4 3 4]]\n"
     ]
    }
   ],
   "source": [
    "a = np.array([0, 1, 2])\n",
    "print(np.tile(a, 2)) # 가로 방향으로 2번 반복\n",
    "print(np.tile(a, (2, 3))) # 행방향으로 2번, 열방향으로 3번 반복\n",
    "print(np.tile(a, (4, 1))) # 행방향으로 4번, 열방향으로 1번 반복\n",
    "print('='*40)\n",
    "b = np.array([[1, 2], [3, 4]])\n",
    "print(np.tile(b, 2))\n",
    "print(np.tile(b, (2, 2)))"
   ]
  },
  {
   "cell_type": "markdown",
   "metadata": {
    "id": "_wbMIOhIL1FL"
   },
   "source": [
    "---\n",
    "\n",
    "# 2. 행렬 다루기\n",
    "\n",
    "* 행렬의 인덱싱과 슬라이싱은 기본적으로 리스트, 튜플과 유사하다.\n",
    "* 행렬의 재형상을 통해 다양한 모양으로 바꿀 수 있다.\n",
    "* 행렬을 연산하는 방법도 다룬다."
   ]
  },
  {
   "cell_type": "markdown",
   "metadata": {
    "id": "NGUx1lAtrNjO"
   },
   "source": [
    "---\n",
    "\n",
    "## 2.1 행렬의 인덱싱과 슬라이싱\n",
    "\n",
    "* 시퀀스 자료형과 같은 점\n",
    "  * 인덱싱: [n] = n 번째\n",
    "  * 슬라이싱: [m:n] = m 번째부터 n 번째까지\n",
    "  * 끝 요소는 포함하지 않는다. (half-open interval)\n",
    "  * 음수는 뒤에서부터, -1은 맨 뒤\n",
    "  * 콜론 앞을 생략하면 처음부터\n",
    "  * 콜론 뒤를 생략하면 맨 뒤까지\n",
    "  * 인덱싱의 결과는 요소, 슬라이싱의 결과는 ndarray\n",
    "  * 콜론 앞뒤로 숫자가 없으면 행 또는 열 전체를 뜻한다.\n",
    "\n",
    "* 시퀀스 자료형과 다른 점\n",
    "  * 2차원 이상의 행렬인 경우 아래의 포맷을 이용한다.\n",
    "    * [행범위, 열범위]\n",
    "    * 예: [1:4, 2:5]\n",
    "\n",
    "* 주의할 점\n",
    "  * 슬라이싱의 결과는 원래의 행렬과 요소를 공유한다. (리스트가 참조형임을 떠올릴 것)\n",
    "  * 복사를 해야 할 경우 `copy()`를 해야 한다."
   ]
  },
  {
   "cell_type": "code",
   "execution_count": 16,
   "metadata": {
    "id": "akrehommDJ3Y"
   },
   "outputs": [
    {
     "name": "stdout",
     "output_type": "stream",
     "text": [
      "0 10 4\n",
      "[1 2 3 4]\n",
      "[1 2 3 4 5 6 7 8 9]\n",
      "[1 3 5 7 9]\n",
      "[0 1 2 3 4]\n",
      "[ 6  7  8  9 10]\n",
      "[10  9  8  7  6  5  4  3  2  1  0]\n"
     ]
    }
   ],
   "source": [
    "# 1차원 행렬의 인덱싱과 슬라이싱\n",
    "a = np.arange(0, 11) # [0, 1, 2, 3, 4, 5, 6, 7, 8, 9, 10]\n",
    "\n",
    "# 인덱싱\n",
    "print(a[0], a[-1], a[4])\n",
    "\n",
    "# 슬라이싱\n",
    "print(a[1:5]) # 5는 포함하지 않음\n",
    "print(a[1:-1]) # 1번째부터 마지막 직전까지 (-1은 포함하지 않으므로)\n",
    "print(a[1:-1:2]) # 1부터 -1번째까지 2칸씩 뛰면서\n",
    "print(a[:5]) # 처음부터 5번째 전까지, 즉 처음 5개의 원소\n",
    "print(a[-5:]) # -5번째부터 끝까지, 즉 마지막 5개의 원소\n",
    "\n",
    "# 순서 뒤집기\n",
    "print(a[::-1]) # ::는 전체를 뜻하며, -1은 순서를 뒤집음을 뜻함"
   ]
  },
  {
   "cell_type": "markdown",
   "metadata": {
    "id": "TM4UGf3_2oxN"
   },
   "source": [
    "* 2차원 행렬의 슬라이싱\n",
    "\n",
    "\n",
    "<p>\n",
    "<img src=https://miro.medium.com/v2/resize:fit:1400/1*W9DYV8pLr8AKVXJefwJBng.png width=600>\n",
    "</p>\n",
    "\n",
    "출처: https://towardsdatascience.com/slicing-numpy-arrays-like-a-ninja-e4910670ceb0"
   ]
  },
  {
   "cell_type": "code",
   "execution_count": 17,
   "metadata": {
    "id": "8SRi73k1E_DM"
   },
   "outputs": [
    {
     "name": "stdout",
     "output_type": "stream",
     "text": [
      "[[ 0  1  2  3  4  5]\n",
      " [10 11 12 13 14 15]\n",
      " [20 21 22 23 24 25]\n",
      " [30 31 32 33 34 35]\n",
      " [40 41 42 43 44 45]\n",
      " [50 51 52 53 54 55]]\n",
      "========================================\n",
      "34\n",
      "========================================\n",
      "[[11 12 13]\n",
      " [21 22 23]]\n",
      "========================================\n",
      "[20 21 22 23 24 25]\n",
      "[ 1 11 21 31 41 51]\n"
     ]
    }
   ],
   "source": [
    "# 2차원 행렬의 인덱싱과 슬라이싱\n",
    "\n",
    "A = [[10*i + j for j in range(6)] for i in range(6)] # 리스트 컴프리헨션: 나중에 배우게 됨\n",
    "A = np.array(A)\n",
    "print(A)\n",
    "print('='*40)\n",
    "print(A[3, 4]) # 숫자를 바꿔가며 테스트해보자.\n",
    "print('='*40)\n",
    "print(A[1:3, 1:4]) # 숫자를 바꿔가며 테스트해보자.\n",
    "print('='*40)\n",
    "print(A[2, :]) # 2번째 행 전체\n",
    "print(A[:, 1]) # 1번째 열 전체, 1 대신 1:2를 쓰면?"
   ]
  },
  {
   "cell_type": "code",
   "execution_count": 18,
   "metadata": {
    "id": "5RVyXkioKa14"
   },
   "outputs": [
    {
     "name": "stdout",
     "output_type": "stream",
     "text": [
      "[[ 0  1  2]\n",
      " [10 11 12]\n",
      " [20 21 22]]\n",
      "[[30 31 32]\n",
      " [40 41 42]\n",
      " [50 51 52]]\n"
     ]
    }
   ],
   "source": [
    "print(A[:3, :3])\n",
    "print(A[3:, :3])"
   ]
  },
  {
   "cell_type": "markdown",
   "metadata": {
    "id": "McMtt-FsLUrZ"
   },
   "source": [
    "* 슬라이싱의 반환 행렬은\n",
    "  * 원래 행렬과 같은 요소를 참조한다.\n",
    "  * 슬라이싱 한 것의 요소를 바꾸면 원래 행렬도 바뀐다.\n",
    "* 이를 방지하기 위해 `copy()` 메서드를 사용해야 한다."
   ]
  },
  {
   "cell_type": "code",
   "execution_count": 19,
   "metadata": {
    "id": "M2qR20lZL1ws"
   },
   "outputs": [
    {
     "name": "stdout",
     "output_type": "stream",
     "text": [
      "[[ 0  1  2  3  4  5]\n",
      " [10 11 12 13 14 15]\n",
      " [20 21 22 23 24 25]\n",
      " [30 31 32 33 34 35]\n",
      " [40 41 42 43 44 45]\n",
      " [50 51 52 53 54 55]]\n",
      "[[ 0  0  0  3  4  5]\n",
      " [ 0  0  0 13 14 15]\n",
      " [ 0  0  0 23 24 25]\n",
      " [30 31 32 33 34 35]\n",
      " [40 41 42 43 44 45]\n",
      " [50 51 52 53 54 55]]\n",
      "[[1 1 1]\n",
      " [1 1 1]\n",
      " [1 1 1]]\n",
      "[[ 0  0  0  3  4  5]\n",
      " [ 0  0  0 13 14 15]\n",
      " [ 0  0  0 23 24 25]\n",
      " [30 31 32 33 34 35]\n",
      " [40 41 42 43 44 45]\n",
      " [50 51 52 53 54 55]]\n"
     ]
    }
   ],
   "source": [
    "print(A)\n",
    "B = A[:3, :3]\n",
    "B[:, :] = 0\n",
    "print(A)\n",
    "\n",
    "C = A[3:, 3:].copy()\n",
    "C[:, :] = 1\n",
    "print(C)\n",
    "print(A)"
   ]
  },
  {
   "cell_type": "markdown",
   "metadata": {
    "id": "kJ6G_N6ZNEF3"
   },
   "source": [
    "* 인덱스는 임의의 정수 배열일 수 있다.\n",
    "  * 반드시 콜론을 사용해야 하는 것이 아니다."
   ]
  },
  {
   "cell_type": "code",
   "execution_count": 20,
   "metadata": {
    "id": "0NoyttVEOYWi"
   },
   "outputs": [
    {
     "name": "stdout",
     "output_type": "stream",
     "text": [
      "[0.  0.1 0.2]\n"
     ]
    }
   ],
   "source": [
    "A = np.linspace(0, 1, 11) # [0.  0.1 0.2 0.3 0.4 0.5 0.6 0.7 0.8 0.9 1. ]\n",
    "print(A[[0, 1, 2]]) # 숫자를 바꿔가며 테스트해보자."
   ]
  },
  {
   "cell_type": "markdown",
   "metadata": {
    "id": "itxYxx_CSxcJ"
   },
   "source": [
    "* 부울<sup>bool</sup> 배열을 이용하는 방법도 있다.\n",
    "* 조건문에서 한 번 더 다룰 예정이다."
   ]
  },
  {
   "cell_type": "code",
   "execution_count": 21,
   "metadata": {
    "id": "uYYozkBnTwOh"
   },
   "outputs": [
    {
     "name": "stdout",
     "output_type": "stream",
     "text": [
      "[False False False False False False  True  True  True  True  True]\n",
      "[0.6 0.7 0.8 0.9 1. ]\n"
     ]
    }
   ],
   "source": [
    "B = A > 0.5\n",
    "print(B)\n",
    "print(A[A > 0.5])"
   ]
  },
  {
   "cell_type": "markdown",
   "metadata": {
    "id": "KTpA2h0jVBeo"
   },
   "source": [
    "* 행렬 수정하기\n",
    "  * 특정 위치의 값 바꾸기\n",
    "  * 특정 범위의 값 바꾸기"
   ]
  },
  {
   "cell_type": "code",
   "execution_count": 22,
   "metadata": {
    "id": "UWcJRzfxVd_x"
   },
   "outputs": [
    {
     "name": "stdout",
     "output_type": "stream",
     "text": [
      "[[ 0  1  2  3  4]\n",
      " [10 11 12 13 14]\n",
      " [20 21 22 23 24]\n",
      " [30 31 32 33 34]]\n"
     ]
    }
   ],
   "source": [
    "A = [[10*i + j for j in range(5)] for i in range(4)] # 나중에 배우게 됨\n",
    "A = np.array(A)\n",
    "print(A)"
   ]
  },
  {
   "cell_type": "code",
   "execution_count": 23,
   "metadata": {
    "id": "6ssk2FigVmax"
   },
   "outputs": [
    {
     "name": "stdout",
     "output_type": "stream",
     "text": [
      "[[  0   1   2   3   4]\n",
      " [ 10  11 100  13  14]\n",
      " [ 20  21  22  23  24]\n",
      " [ 30  31  32  33  34]]\n",
      "[[  0   1 100   3   4]\n",
      " [ 10  11 101  13  14]\n",
      " [ 20  21 102  23  24]\n",
      " [ 30  31 103  33  34]]\n"
     ]
    }
   ],
   "source": [
    "# [1, 2] 위치의 값을 100으로 바꾸기\n",
    "A[1, 2] = 100\n",
    "print(A)\n",
    "\n",
    "# 2번째 열을 [100, 101, 102, 103]으로 바꾸기\n",
    "A[:, 2] = np.arange(100, 104) # 길이가 같으면 자동으로 맞춰서 넣어준다.\n",
    "print(A)"
   ]
  },
  {
   "cell_type": "code",
   "execution_count": 24,
   "metadata": {
    "id": "xtkPoZSrc-fk"
   },
   "outputs": [
    {
     "name": "stdout",
     "output_type": "stream",
     "text": [
      "[[ 0  1 -1 -1  4]\n",
      " [10 11 -1 -1 14]\n",
      " [20 21 -1 -1 24]\n",
      " [30 31 -1 -1 34]]\n",
      "[[ 0  1 -1 -1  4]\n",
      " [10 11 -1 -1 14]\n",
      " [42 42 42 42 42]\n",
      " [42 42 42 42 42]]\n"
     ]
    }
   ],
   "source": [
    "# 2~3번째 열 전체를 -1로 바꾸기\n",
    "A[:, 2:4] = -1\n",
    "print(A)\n",
    "\n",
    "# 2~끝 행 전체를 42로 바꾸기\n",
    "A[2:, :] = 42\n",
    "print(A)"
   ]
  },
  {
   "cell_type": "code",
   "execution_count": 25,
   "metadata": {
    "id": "C-4UDx6hdQdb"
   },
   "outputs": [
    {
     "name": "stdout",
     "output_type": "stream",
     "text": [
      "[[ 0  1 -1 -1  4]\n",
      " [10 11 -1 -1 14]\n",
      " [77 78 42 42 42]\n",
      " [79 80 42 42 42]]\n"
     ]
    }
   ],
   "source": [
    "# 2~3번 행, 0~1번 열 영역을 [[77, 78], [79, 80]]으로 바꾸기\n",
    "A[2:4, 0:2] = np.array([[77, 78], [79, 80]])\n",
    "print(A)"
   ]
  },
  {
   "cell_type": "markdown",
   "metadata": {
    "id": "6A1V1Gj1rROg"
   },
   "source": [
    "---\n",
    "\n",
    "## 2.2 행렬의 재형상<sup>reshaping</sup>\n",
    "\n",
    "* 행렬의 원소를 재배치하는 방법을 다룬다.\n",
    "  * `reshape`: 예를 들어 3x4 행렬을 2x6으로 변경\n",
    "  * `flatten`: 2차원 행렬을 1차원으로 변경\n",
    "  * `T`: 전치행렬\n",
    "  * `append`: 행렬의 끝부분에 값을 덧붙임 (리스트의 append와 유사)\n",
    "  * `fliplr`: 좌우를 뒤집음 (lr = left right)\n",
    "  * `flipud`: 위아래를 뒤집음 (ud = up down)"
   ]
  },
  {
   "cell_type": "code",
   "execution_count": 26,
   "metadata": {
    "id": "ug94U_NxH_co"
   },
   "outputs": [
    {
     "name": "stdout",
     "output_type": "stream",
     "text": [
      "[[0 1]\n",
      " [2 3]\n",
      " [4 5]]\n",
      "[[0 1 2]\n",
      " [3 4 5]]\n",
      "[0 1 2 3 4 5]\n",
      "[0 1 2 3 4 5]\n",
      "[[0 1 2 3 4 5]]\n"
     ]
    }
   ],
   "source": [
    "# reshape: 행렬의 원소 개수를 유지하며 크기만 바꿈\n",
    "# np.reshape, ndarray.reshape 모두 가능\n",
    "# 원 행렬을 바꾸지 않고 새로운 행렬을 반환하나, 새 행렬은 원 행렬과 같은 객체를 가리킴\n",
    "\n",
    "a = np.arange(6) # [0 1 2 3 4 5]\n",
    "print(a.reshape((3, 2))) # a는 바꾸지 않고 새로운 행렬을 반환한다.\n",
    "print(np.reshape(a, (2, 3)))\n",
    "print(a)\n",
    "\n",
    "b = a.reshape((3, 2))\n",
    "print(b.reshape(6)) # 1차원 행렬\n",
    "print(b.reshape((1, 6))) # 2차원 행렬"
   ]
  },
  {
   "cell_type": "code",
   "execution_count": 27,
   "metadata": {
    "id": "ufhUFDGOKdHI"
   },
   "outputs": [
    {
     "name": "stdout",
     "output_type": "stream",
     "text": [
      "[100   1   2   3   4   5]\n",
      "[[200   1]\n",
      " [  2   3]\n",
      " [  4   5]]\n",
      "[100   1   2   3   4   5]\n"
     ]
    }
   ],
   "source": [
    "b[0, 0] = 100\n",
    "print(a) # b는 a와 객체를 공유함\n",
    "c = b.copy()\n",
    "c[0, 0] = 200\n",
    "print(c)\n",
    "print(a)"
   ]
  },
  {
   "cell_type": "code",
   "execution_count": 28,
   "metadata": {
    "id": "jYYYIVTLJcqN"
   },
   "outputs": [
    {
     "name": "stdout",
     "output_type": "stream",
     "text": [
      "[[0 1]\n",
      " [2 3]\n",
      " [4 5]]\n",
      "[0 1 2 3 4 5]\n",
      "(6,)\n"
     ]
    }
   ],
   "source": [
    "# flatten: 행렬을 1차원으로 flat하게 만든다.\n",
    "# 원 행렬과 다른 객체를 가리키는 복사본을 만든다.\n",
    "\n",
    "a = np.arange(6).reshape((3, 2)) # [[0 1] [2 3] [4 5]]\n",
    "print(a)\n",
    "b = a.flatten()\n",
    "print(b)\n",
    "print(b.shape)"
   ]
  },
  {
   "cell_type": "markdown",
   "metadata": {
    "id": "6gBAOEt5HbR4"
   },
   "source": [
    "* 전치행렬<sup>transpose</sup>을 만드는 방법\n",
    "  * 행렬 `a`를 전치시키려면 `a.T`를 쓰면 되는데...\n",
    "  * 2차원 행렬에는 잘 동작하는데...\n",
    "  * 1차원 행렬(행벡터)은 차원이 1개밖에 없으므로 전치가 되지 않는다.\n",
    "  * 방법: 2차원으로 만든다.\n"
   ]
  },
  {
   "cell_type": "code",
   "execution_count": 29,
   "metadata": {
    "id": "35V6AcM4LBrz"
   },
   "outputs": [
    {
     "name": "stdout",
     "output_type": "stream",
     "text": [
      "[[1 3 5]\n",
      " [2 4 6]]\n",
      "[0 1 2 3]\n",
      "(1, 4)\n",
      "[[0]\n",
      " [1]\n",
      " [2]\n",
      " [3]]\n"
     ]
    }
   ],
   "source": [
    "# 전치행렬: ndarray.T\n",
    "a = np.array([[1, 2], [3, 4], [5, 6]])\n",
    "print(a.T)\n",
    "\n",
    "b = np.array([0, 1, 2, 3])\n",
    "print(b.T) # 전치가 되지 않는다.\n",
    "\n",
    "b = np.array([b]) # 차원을 늘린다.\n",
    "print(b.shape)\n",
    "print(b.T)"
   ]
  },
  {
   "cell_type": "code",
   "execution_count": 30,
   "metadata": {
    "id": "UMFhS2_1Mneo"
   },
   "outputs": [
    {
     "name": "stdout",
     "output_type": "stream",
     "text": [
      "[1 2 3 4 5 6 7 8 9]\n"
     ]
    },
    {
     "ename": "ValueError",
     "evalue": "all the input arrays must have same number of dimensions, but the array at index 0 has 1 dimension(s) and the array at index 1 has 2 dimension(s)",
     "output_type": "error",
     "traceback": [
      "\u001b[0;31m---------------------------------------------------------------------------\u001b[0m",
      "\u001b[0;31mValueError\u001b[0m                                Traceback (most recent call last)",
      "Cell \u001b[0;32mIn[30], line 7\u001b[0m\n\u001b[1;32m      4\u001b[0m b \u001b[38;5;241m=\u001b[39m np\u001b[38;5;241m.\u001b[39marray([[\u001b[38;5;241m4\u001b[39m, \u001b[38;5;241m5\u001b[39m, \u001b[38;5;241m6\u001b[39m], [\u001b[38;5;241m7\u001b[39m, \u001b[38;5;241m8\u001b[39m, \u001b[38;5;241m9\u001b[39m]])\n\u001b[1;32m      6\u001b[0m \u001b[38;5;28mprint\u001b[39m(np\u001b[38;5;241m.\u001b[39mappend(a, b)) \u001b[38;5;66;03m# 축을 지정하지 않으면 flatten을 한다.\u001b[39;00m\n\u001b[0;32m----> 7\u001b[0m \u001b[38;5;28mprint\u001b[39m(np\u001b[38;5;241m.\u001b[39mappend(a, b, axis\u001b[38;5;241m=\u001b[39m\u001b[38;5;241m0\u001b[39m))\n",
      "File \u001b[0;32m<__array_function__ internals>:200\u001b[0m, in \u001b[0;36mappend\u001b[0;34m(*args, **kwargs)\u001b[0m\n",
      "File \u001b[0;32m/opt/homebrew/anaconda3/lib/python3.11/site-packages/numpy/lib/function_base.py:5499\u001b[0m, in \u001b[0;36mappend\u001b[0;34m(arr, values, axis)\u001b[0m\n\u001b[1;32m   5497\u001b[0m     values \u001b[38;5;241m=\u001b[39m ravel(values)\n\u001b[1;32m   5498\u001b[0m     axis \u001b[38;5;241m=\u001b[39m arr\u001b[38;5;241m.\u001b[39mndim\u001b[38;5;241m-\u001b[39m\u001b[38;5;241m1\u001b[39m\n\u001b[0;32m-> 5499\u001b[0m \u001b[38;5;28;01mreturn\u001b[39;00m concatenate((arr, values), axis\u001b[38;5;241m=\u001b[39maxis)\n",
      "File \u001b[0;32m<__array_function__ internals>:200\u001b[0m, in \u001b[0;36mconcatenate\u001b[0;34m(*args, **kwargs)\u001b[0m\n",
      "\u001b[0;31mValueError\u001b[0m: all the input arrays must have same number of dimensions, but the array at index 0 has 1 dimension(s) and the array at index 1 has 2 dimension(s)"
     ]
    }
   ],
   "source": [
    "# np.append: 행렬 끝에 값을 덧붙임 (리스트의 append를 생각하면 됨)\n",
    "\n",
    "a = np.array([1, 2, 3])\n",
    "b = np.array([[4, 5, 6], [7, 8, 9]])\n",
    "\n",
    "print(np.append(a, b)) # 축을 지정하지 않으면 flatten을 한다.\n",
    "print(np.append(a, b, axis=0)) # 에러 발생 -> 어떻게 수정해야 할까?"
   ]
  },
  {
   "cell_type": "code",
   "execution_count": null,
   "metadata": {
    "id": "5K78q1stf7ot"
   },
   "outputs": [],
   "source": [
    "# np.fliplr: 좌우를 뒤집음 (lr = left right)\n",
    "# np.flipud: 좌우를 뒤집음 (ud = up down)\n",
    "A = np.arange(9).reshape((3, 3))\n",
    "print(A)\n",
    "print(np.fliplr(A))\n",
    "print(np.flipud(A))"
   ]
  },
  {
   "cell_type": "markdown",
   "metadata": {
    "id": "30-7A194cvqS"
   },
   "source": [
    "---\n",
    "\n",
    "## 2.3 행렬의 연산\n",
    "\n",
    "* 두 행렬의 사칙연산\n",
    "  * 크기가 같으면: 원소끼리 연산한다.\n",
    "  * 크기가 다르면: 브로드캐스팅\n",
    "* 행렬과 스칼라의 사칙연산\n",
    "  * 원소별로 연산한다."
   ]
  },
  {
   "cell_type": "code",
   "execution_count": null,
   "metadata": {
    "id": "L2aYagsecj68"
   },
   "outputs": [],
   "source": [
    "# 행렬 + 행렬\n",
    "a = np.arange(0, 5) # [0, 1, 2, 3, 4]\n",
    "b = np.arange(10, 15) # [10, 11, 12, 13, 14]\n",
    "print(a + b)\n",
    "print(a - b)\n",
    "\n",
    "# 행렬 + 스칼라, 스칼라 + 행렬\n",
    "c = a + 10\n",
    "print(c)\n",
    "print(c + 10)\n",
    "print(20 - c)"
   ]
  },
  {
   "cell_type": "code",
   "execution_count": null,
   "metadata": {
    "id": "SBHFFbI9e3Cp"
   },
   "outputs": [],
   "source": [
    "# 행렬과 스칼라의 곱셈과 나눗셈\n",
    "p = np.arange(4, 24, 4) # [4 8 12 16 20]\n",
    "q = p * 2\n",
    "print(q)\n",
    "print(2 * q)\n",
    "print(q / 8) # 나눗셈은 float\n",
    "print(8 / q)"
   ]
  },
  {
   "cell_type": "code",
   "execution_count": null,
   "metadata": {
    "id": "tIGPkS7dgU3G"
   },
   "outputs": [],
   "source": [
    "# 행렬의 원소별 곱셈\n",
    "a = np.array([1, 2, 3])\n",
    "b = np.array([4, 3, 1])\n",
    "print(a * b)\n",
    "\n",
    "A = np.array([[1, 2, 3], [4, 5, 6]])\n",
    "B = np.array([[3, 3, 4], [3, 1, 2]])\n",
    "print(A * B)\n",
    "\n",
    "print(A ** 2)"
   ]
  },
  {
   "cell_type": "code",
   "execution_count": null,
   "metadata": {
    "id": "jwX8EtRbi82O"
   },
   "outputs": [],
   "source": [
    "# 행렬의 원소별 나눗셈\n",
    "a = np.array([1, 2, 3])\n",
    "b = np.array([4, 3, 1])\n",
    "print(a / b)\n",
    "\n",
    "A = np.array([[1, 2, 3], [4, 5, 6]])\n",
    "B = np.array([[3, 3, 4], [3, 1, 2]])\n",
    "# A / B = [[1/3, 2/3, 3/4],\n",
    "#          [4/3, 5/1, 6/2]]\n",
    "print(A / B)"
   ]
  },
  {
   "cell_type": "markdown",
   "metadata": {
    "id": "8OzONBLtdZlL"
   },
   "source": [
    "* 브로드캐스팅<sup>broadcasting</sup>이란?\n",
    "  * 크기가 다른 행렬끼리 연산하려는 경우\n",
    "  * 피연산자의 크기가 같은 차원이 있다면\n",
    "  * 크기가 다른 차원을 알아서 맞춰준다.\n",
    "  * 예1) (3, 3)과 (1, 3)을 연산하는 경우\n",
    "    * (1, 3)을 행방향으로 복제해서 (3, 3)으로 만들고 연산한다.\n",
    "  * 예2) (3, 1)과 (3, 3)을 연산하는 경우\n",
    "    * (3, 1)을 열방향으로 복제해서 (3, 3)으로 만들고 연산한다.\n",
    "\n",
    "<p>\n",
    "<img src=https://miro.medium.com/v2/resize:fit:1400/1*lY8Ve6Uz_bqVI5NPh5RPZA.png width=600>\n",
    "</p>\n",
    "\n",
    "출처: https://towardsdatascience.com/broadcasting-in-numpy-58856f926d73"
   ]
  },
  {
   "cell_type": "code",
   "execution_count": null,
   "metadata": {
    "id": "4-zF6ry-ghx_"
   },
   "outputs": [],
   "source": [
    "A = np.arange(12).reshape((3, 4))\n",
    "print(A)\n",
    "print(A + 10 * np.ones(4))\n",
    "print(A * np.array([[1], [2], [3]]))"
   ]
  },
  {
   "cell_type": "markdown",
   "metadata": {
    "id": "G24nVuwpNz2o"
   },
   "source": [
    "---\n",
    "\n",
    "# 3. 행렬을 다루는 numpy 함수"
   ]
  },
  {
   "cell_type": "markdown",
   "metadata": {
    "id": "QMKMKkvmOIZU"
   },
   "source": [
    "---\n",
    "\n",
    "## 3.1 벡터화 연산\n",
    "\n",
    "* 1주차에 다뤘던 많은 함수들\n",
    "  * `np.sqrt`, `np.log`, `np.sin`, ...\n",
    "* 이 함수들은 행렬을 입력으로 받아 행렬을 반환한다.\n",
    "* 당연히 각 원소에 대한 함수값이 원래 위치에 들어간다."
   ]
  },
  {
   "cell_type": "code",
   "execution_count": null,
   "metadata": {
    "id": "zJbYJzwe6yp9"
   },
   "outputs": [],
   "source": [
    "A = np.arange(1, 11)\n",
    "print(np.sqrt(A))\n",
    "print(np.log10(A))\n",
    "\n",
    "q = np.linspace(0, 2*np.pi, 11)\n",
    "print(np.sin(q))"
   ]
  },
  {
   "cell_type": "markdown",
   "metadata": {
    "id": "n69z6KLj8JDM"
   },
   "source": [
    "* 행렬을 다루는 numpy 함수들\n",
    "  * `np.sum`: 원소의 합\n",
    "  * `np.mean`: 원소의 평균\n",
    "  * `np.std`: 표준편차\n",
    "  * `np.prod`: 원소의 곱\n",
    "  * `np.cumsum`: 원소의 누적 합\n",
    "  * `np.cumprod`: 원소의 누적 곱\n",
    "  * `np.min`: 원소의 최소값\n",
    "  * `np.max`: 원소의 최대값\n",
    "  * `np.argmin`: 원소의 최소값의 인덱스\n",
    "  * `np.argmax`: 원소의 최대값의 인덱스\n",
    "  * `np.all`: 모든 원소가 nonzero인지?\n",
    "  * `np.any`: 하나라도 nonzero인지?\n"
   ]
  },
  {
   "cell_type": "code",
   "execution_count": null,
   "metadata": {
    "id": "3E9H-o7I9z3w"
   },
   "outputs": [],
   "source": [
    "A = np.arange(0, 12).reshape((3, 4))\n",
    "print(A)\n",
    "print('='*40)\n",
    "print(np.sum(A)) # 모든 원소의 합\n",
    "print(np.sum(A, axis=0)) # 0번 축방향으로의 합\n",
    "print(np.sum(A, axis=1)) # 1번 축방향으로의 합\n",
    "print('='*40)\n",
    "print(np.mean(A)) # 모든 원소의 평균\n",
    "print(np.mean(A, axis=0)) # 0번 축방향으로의 평균\n",
    "print(np.mean(A, axis=1)) # 1번 축방향으로의 평균\n",
    "print('='*40)\n",
    "print(np.std(A)) # 모든 원소의 표준편차\n",
    "print(np.std(A, axis=0)) # 0번 축방향으로의 표준편차\n",
    "print(np.std(A, axis=1)) # 1번 축방향으로의 표준편차"
   ]
  },
  {
   "cell_type": "code",
   "execution_count": null,
   "metadata": {
    "id": "Kkef98mG-hrE"
   },
   "outputs": [],
   "source": [
    "A = np.arange(1, 13).reshape((3, 4))\n",
    "print(A)\n",
    "print(np.prod(A))\n",
    "print(np.prod(A, axis=0))\n",
    "print(np.prod(A, axis=1))"
   ]
  },
  {
   "cell_type": "code",
   "execution_count": null,
   "metadata": {
    "id": "A875014U_OrJ"
   },
   "outputs": [],
   "source": [
    "print(A)\n",
    "print(A.flatten())\n",
    "print(np.cumsum(A))\n",
    "print(np.cumsum(A, axis=0))\n",
    "print(np.cumsum(A, axis=1))"
   ]
  },
  {
   "cell_type": "code",
   "execution_count": null,
   "metadata": {
    "id": "O_o8kSSzIsju"
   },
   "outputs": [],
   "source": [
    "print(A)\n",
    "A[[0, 1], :] = A[[1, 0], :] # 0번째와 1번째 행 swap\n",
    "print(A)\n",
    "A[:, [0, 2]] = A[:, [2, 0]] # 0번째와 2번째 열 swap\n",
    "print(A)\n",
    "\n",
    "print(np.min(A))\n",
    "print(np.min(A, axis=0))\n",
    "print(np.min(A, axis=1))"
   ]
  },
  {
   "cell_type": "code",
   "execution_count": null,
   "metadata": {
    "id": "XE1ErOYWLfD0"
   },
   "outputs": [],
   "source": [
    "print(A)\n",
    "print(np.argmin(A)) # 1차원 인덱싱일 때 전체 원소 중 최소값의 인덱스\n",
    "print(np.argmin(A, axis=0)) # 0번 축방향으로 최소값의 인덱스\n",
    "print(np.argmin(A, axis=1)) # 1번 축방향으로 최소값의 인덱스"
   ]
  },
  {
   "cell_type": "code",
   "execution_count": null,
   "metadata": {
    "id": "tr58PKbNL6Iz"
   },
   "outputs": [],
   "source": [
    "A = np.array([0, 1, 2, 3])\n",
    "print(np.all(A)) # 전부(all) nonzero인가?\n",
    "print(np.any(A)) # 하나라도(any) nonzero인가?"
   ]
  },
  {
   "cell_type": "markdown",
   "metadata": {
    "id": "nKoGizGMOLzJ"
   },
   "source": [
    "---\n",
    "\n",
    "## 3.2 난수 관련 함수\n",
    "\n",
    "* 우선 seed를 고정하고 시작한다.\n",
    "* 원래 난수는 말 그대로 랜덤하게 값을 만드는 것이므로,\n",
    "* 사람마다 숫자가 다르게 나온다.\n",
    "* 하지만 seed를 고정하면 모두에게 같은 값이 나오게 할 수 있다."
   ]
  },
  {
   "cell_type": "code",
   "execution_count": null,
   "metadata": {
    "id": "4BdeiIsCT5iY"
   },
   "outputs": [],
   "source": [
    "np.random.seed(42) # 주석을 풀고 실행해보자.\n",
    "\n",
    "print(np.random.random(3))\n",
    "print(np.random.random(3)) # 한번 더 한다고 똑같이 나오지는 않는다."
   ]
  },
  {
   "cell_type": "markdown",
   "metadata": {
    "id": "7DD1CBOQYiIM"
   },
   "source": [
    "* `np.random.rand()`: [0, 1) 범위의 균등분포 난수 1개 생성\n",
    "  * `np.random.rand(d1, d2)`: shape이 `(d1, d2)`인 난수 행렬 생성"
   ]
  },
  {
   "cell_type": "code",
   "execution_count": null,
   "metadata": {
    "id": "uqMWfpNrcm0g"
   },
   "outputs": [],
   "source": [
    "np.random.seed(42)\n",
    "\n",
    "print(np.random.rand(3, 4))\n",
    "\n",
    "import matplotlib.pyplot as plt\n",
    "\n",
    "x = np.random.rand(10000) # shape이 (10000,)인 난수 생성\n",
    "plt.hist(x, bins=25, edgecolor='k')\n",
    "plt.show()"
   ]
  },
  {
   "cell_type": "markdown",
   "metadata": {
    "id": "0nGBI_EBeFfE"
   },
   "source": [
    "* `np.random.randn()`: 평균이 0이고 표준편차가 1인 정규분포의 난수 1개 생성\n",
    "  * `np.random.randn(d1, d2)`: shape이 `(d1, d2)`인 난수 행렬 생성"
   ]
  },
  {
   "cell_type": "code",
   "execution_count": null,
   "metadata": {
    "id": "VIrSrYO5eFR6"
   },
   "outputs": [],
   "source": [
    "np.random.seed(42)\n",
    "\n",
    "print(np.random.randn(3, 4))\n",
    "\n",
    "x = np.random.randn(10000) # shape이 (10000,)인 난수 생성\n",
    "plt.hist(x, bins=25, edgecolor='k')\n",
    "plt.show()"
   ]
  },
  {
   "cell_type": "markdown",
   "metadata": {
    "id": "bU2ffm97eSBU"
   },
   "source": [
    "* `np.random.randint`: 정수 난수 생성\n",
    "  * `np.random.randint(high)`: [0, high) 범위의 정수 난수 1개\n",
    "  * `np.random.randint(low, high)`: [low, high) 범위의 정수 난수 1개\n",
    "  * `np.random.randint(low, high, size=10)`: [low, high) 범위의 정수 난수를 (10,)의 shape으로 생성\n",
    "  * `np.random.randint(low, high, size=(2, 4))`: [low, high) 범위의 정수 난수를 (2, 4)의 shape으로 생성\n",
    "  "
   ]
  },
  {
   "cell_type": "code",
   "execution_count": null,
   "metadata": {
    "id": "VGxmnvxoXj0v"
   },
   "outputs": [],
   "source": [
    "np.random.seed(42)\n",
    "\n",
    "print(np.random.randint(5, size=20)) # 0, 1, 2, 3, 4 중\n",
    "\n",
    "print(np.random.randint(5, 10, size=20)) # 5, 6, 7, 8, 9 중"
   ]
  }
 ],
 "metadata": {
  "colab": {
   "provenance": []
  },
  "kernelspec": {
   "display_name": "Python 3",
   "name": "python3"
  },
  "language_info": {
   "codemirror_mode": {
    "name": "ipython",
    "version": 3
   },
   "file_extension": ".py",
   "mimetype": "text/x-python",
   "name": "python",
   "nbconvert_exporter": "python",
   "pygments_lexer": "ipython3",
   "version": "3.11.6"
  }
 },
 "nbformat": 4,
 "nbformat_minor": 0
}