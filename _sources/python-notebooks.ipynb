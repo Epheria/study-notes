{
  "cells": [
    {
      "cell_type": "markdown",
      "metadata": {},
      "source": [
        "## Machine Learning - Feature scaling and Learning Rate (Multi-variable)"
      ]
    },
    {
      "cell_type": "markdown",
      "metadata": {},
      "source": [
        "#### Tools"
      ]
    },
    {
      "cell_type": "code",
      "execution_count": 1,
      "metadata": {},
      "outputs": [
        {
          "ename": "ModuleNotFoundError",
          "evalue": "No module named 'lab_utils_multi'",
          "output_type": "error",
          "traceback": [
            "\u001b[0;31m---------------------------------------------------------------------------\u001b[0m",
            "\u001b[0;31mModuleNotFoundError\u001b[0m                       Traceback (most recent call last)",
            "\u001b[1;32m/Users/son_sehyup/study-notes/mynewbook/python-notebooks.ipynb Cell 3\u001b[0m line \u001b[0;36m3\n\u001b[1;32m      <a href='vscode-notebook-cell:/Users/son_sehyup/study-notes/mynewbook/python-notebooks.ipynb#Y150sZmlsZQ%3D%3D?line=0'>1</a>\u001b[0m \u001b[39mimport\u001b[39;00m \u001b[39mnumpy\u001b[39;00m \u001b[39mas\u001b[39;00m \u001b[39mnp\u001b[39;00m\n\u001b[1;32m      <a href='vscode-notebook-cell:/Users/son_sehyup/study-notes/mynewbook/python-notebooks.ipynb#Y150sZmlsZQ%3D%3D?line=1'>2</a>\u001b[0m \u001b[39mimport\u001b[39;00m \u001b[39mmatplotlib\u001b[39;00m\u001b[39m.\u001b[39;00m\u001b[39mpyplot\u001b[39;00m \u001b[39mas\u001b[39;00m \u001b[39mplt\u001b[39;00m\n\u001b[0;32m----> <a href='vscode-notebook-cell:/Users/son_sehyup/study-notes/mynewbook/python-notebooks.ipynb#Y150sZmlsZQ%3D%3D?line=2'>3</a>\u001b[0m \u001b[39mfrom\u001b[39;00m \u001b[39mlab_utils_multi\u001b[39;00m \u001b[39mimport\u001b[39;00m  load_house_data, run_gradient_descent \n\u001b[1;32m      <a href='vscode-notebook-cell:/Users/son_sehyup/study-notes/mynewbook/python-notebooks.ipynb#Y150sZmlsZQ%3D%3D?line=3'>4</a>\u001b[0m \u001b[39mfrom\u001b[39;00m \u001b[39mlab_utils_multi\u001b[39;00m \u001b[39mimport\u001b[39;00m  norm_plot, plt_equal_scale, plot_cost_i_w\n\u001b[1;32m      <a href='vscode-notebook-cell:/Users/son_sehyup/study-notes/mynewbook/python-notebooks.ipynb#Y150sZmlsZQ%3D%3D?line=4'>5</a>\u001b[0m \u001b[39mfrom\u001b[39;00m \u001b[39mlab_utils_common\u001b[39;00m \u001b[39mimport\u001b[39;00m dlc\n",
            "\u001b[0;31mModuleNotFoundError\u001b[0m: No module named 'lab_utils_multi'"
          ]
        }
      ],
      "source": [
        "import numpy as np\n",
        "import matplotlib.pyplot as plt\n",
        "from lab_utils_multi import  load_house_data, run_gradient_descent \n",
        "from lab_utils_multi import  norm_plot, plt_equal_scale, plot_cost_i_w\n",
        "from lab_utils_common import dlc\n",
        "np.set_printoptions(precision=2)\n",
        "plt.style.use('./deeplearning.mplstyle')"
      ]
    },
    {
      "cell_type": "markdown",
      "metadata": {},
      "source": [
        "#### Problem Statements\n",
        "\n",
        "- 주택 가격 예측을 위한 예제를 그대로 사용한다. 훈련 데이터셋에는 네가지 특징 (크기, 침실 수, 층 수, 햇수)을 포함한 세 가지 예제가 아래 표에 나와있다."
      ]
    },
    {
      "cell_type": "markdown",
      "metadata": {},
      "source": [
        "####  Dataset: \n",
        "\n",
        "| Size (sqft) | Number of Bedrooms  | Number of floors | Age of  Home | Price (1000s dollars)  |   \n",
        "| ----------------| ------------------- |----------------- |--------------|----------------------- |  \n",
        "| 952             | 2                   | 1                | 65           | 271.5                  |  \n",
        "| 1244            | 3                   | 2                | 64           | 232                    |  \n",
        "| 1947            | 3                   | 2                | 17           | 509.8                  |  \n",
        "| ...             | ...                 | ...              | ...          | ...                    |\n"
      ]
    },
    {
      "cell_type": "code",
      "execution_count": null,
      "metadata": {},
      "outputs": [],
      "source": [
        "# load the dataset\n",
        "X_train, y_train = load_house_data()\n",
        "X_features = ['size(sqft)','bedrooms','floors','age']"
      ]
    },
    {
      "cell_type": "code",
      "execution_count": null,
      "metadata": {},
      "outputs": [],
      "source": [
        "fig,ax=plt.subplots(1, 4, figsize=(12, 3), sharey=True)\n",
        "for i in range(len(ax)):\n",
        "    ax[i].scatter(X_train[:,i],y_train)\n",
        "    ax[i].set_xlabel(X_features[i])\n",
        "ax[0].set_ylabel(\"Price (1000's)\")\n",
        "plt.show()"
      ]
    },
    {
      "cell_type": "markdown",
      "metadata": {},
      "source": [
        "<a name=\"toc_15456_5\"></a>\n",
        "## Gradient Descent With Multiple Variables\n",
        "Here are the equations you developed in the last lab on gradient descent for multiple variables.:\n",
        "\n",
        "$$\\begin{align*} \\text{repeat}&\\text{ until convergence:} \\; \\lbrace \\newline\\;\n",
        "& w_j := w_j -  \\alpha \\frac{\\partial J(\\mathbf{w},b)}{\\partial w_j} \\tag{1}  \\; & \\text{for j = 0..n-1}\\newline\n",
        "&b\\ \\ := b -  \\alpha \\frac{\\partial J(\\mathbf{w},b)}{\\partial b}  \\newline \\rbrace\n",
        "\\end{align*}$$\n",
        "\n",
        "where, n is the number of features, parameters $w_j$,  $b$, are updated simultaneously and where  \n",
        "\n",
        "$$\n",
        "\\begin{align}\n",
        "\\frac{\\partial J(\\mathbf{w},b)}{\\partial w_j}  &= \\frac{1}{m} \\sum\\limits_{i = 0}^{m-1} (f_{\\mathbf{w},b}(\\mathbf{x}^{(i)}) - y^{(i)})x_{j}^{(i)} \\tag{2}  \\\\\n",
        "\\frac{\\partial J(\\mathbf{w},b)}{\\partial b}  &= \\frac{1}{m} \\sum\\limits_{i = 0}^{m-1} (f_{\\mathbf{w},b}(\\mathbf{x}^{(i)}) - y^{(i)}) \\tag{3}\n",
        "\\end{align}\n",
        "$$\n",
        "* m is the number of training examples in the data set\n",
        "\n",
        "    \n",
        "*  $f_{\\mathbf{w},b}(\\mathbf{x}^{(i)})$ is the model's prediction, while $y^{(i)}$ is the target value\n"
      ]
    }
  ],
  "metadata": {
    "colab": {
      "provenance": []
    },
    "kernelspec": {
      "display_name": "Python 3",
      "name": "python3"
    },
    "language_info": {
      "codemirror_mode": {
        "name": "ipython",
        "version": 3
      },
      "file_extension": ".py",
      "mimetype": "text/x-python",
      "name": "python",
      "nbconvert_exporter": "python",
      "pygments_lexer": "ipython3",
      "version": "3.11.6"
    }
  },
  "nbformat": 4,
  "nbformat_minor": 0
}
